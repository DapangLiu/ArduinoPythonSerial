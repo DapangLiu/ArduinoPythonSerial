{
 "cells": [
  {
   "cell_type": "code",
   "execution_count": 3,
   "metadata": {
    "collapsed": true
   },
   "outputs": [],
   "source": [
    "#!/usr/bin/env python\n",
    "#<examples/doc_basic.py>\n",
    "from lmfit import minimize, Minimizer, Parameters, Parameter, report_fit\n",
    "import numpy as np\n",
    "\n",
    "# create data to be fitted\n",
    "x = np.linspace(0, 15, 301)\n",
    "data = (5. * np.sin(2 * x - 0.1) * np.exp(-x*x*0.025) +\n",
    "        np.random.normal(size=len(x), scale=0.2) )\n"
   ]
  },
  {
   "cell_type": "code",
   "execution_count": 6,
   "metadata": {},
   "outputs": [],
   "source": [
    "# define objective function: returns the array to be minimized\n",
    "def fcn2min(params, x, data):\n",
    "    \"\"\" model decaying sine wave, subtract data\"\"\"\n",
    "    amp = params['amp']\n",
    "    shift = params['shift']\n",
    "    omega = params['omega']\n",
    "    decay = params['decay']\n",
    "    model = amp * np.sin(x * omega + shift) * np.exp(-x*x*decay)\n",
    "    return model - data"
   ]
  },
  {
   "cell_type": "code",
   "execution_count": 7,
   "metadata": {},
   "outputs": [],
   "source": [
    "# create a set of Parameters\n",
    "params = Parameters()\n",
    "params.add('amp', value=10, min=0)\n",
    "params.add('decay', value=0.1)\n",
    "params.add('shift', value=0.0, min=-np.pi / 2., max=np.pi / 2)\n",
    "params.add('omega', value=3.0)\n"
   ]
  },
  {
   "cell_type": "code",
   "execution_count": 8,
   "metadata": {},
   "outputs": [],
   "source": [
    "# do fit, here with leastsq model\n",
    "minner = Minimizer(fcn2min, params, fcn_args=(x, data))\n",
    "result = minner.minimize()"
   ]
  },
  {
   "cell_type": "code",
   "execution_count": 9,
   "metadata": {},
   "outputs": [],
   "source": [
    "# calculate final result\n",
    "final = data + result.residual"
   ]
  },
  {
   "cell_type": "code",
   "execution_count": 10,
   "metadata": {},
   "outputs": [
    {
     "name": "stdout",
     "output_type": "stream",
     "text": [
      "[[Fit Statistics]]\n    # function evals   = 61\n    # data points      = 301\n    # variables        = 4\n    chi-square         = 11.501\n    reduced chi-square = 0.039\n    Akaike info crit   = -974.671\n    Bayesian info crit = -959.843\n[[Variables]]\n    amp:     5.03973660 +/- 0.039196 (0.78%) (init= 10)\n    decay:   0.02558803 +/- 0.000454 (1.78%) (init= 0.1)\n    shift:  -0.11152798 +/- 0.009957 (8.93%) (init= 0)\n    omega:   2.00553610 +/- 0.003219 (0.16%) (init= 3)\n[[Correlations]] (unreported correlations are <  0.100)\n    C(shift, omega)              = -0.785 \n    C(amp, decay)                =  0.584 \n    C(amp, shift)                = -0.118 \n"
     ]
    }
   ],
   "source": [
    "# write error report\n",
    "report_fit(result)"
   ]
  },
  {
   "cell_type": "code",
   "execution_count": 11,
   "metadata": {},
   "outputs": [],
   "source": [
    "# try to plot results\n",
    "try:\n",
    "    import pylab\n",
    "    pylab.plot(x, data, 'k+')\n",
    "    pylab.plot(x, final, 'r')\n",
    "    pylab.show()\n",
    "except:\n",
    "    pass"
   ]
  },
  {
   "cell_type": "code",
   "execution_count": null,
   "metadata": {},
   "outputs": [],
   "source": []
  }
 ],
 "metadata": {
  "kernelspec": {
   "display_name": "Python 2",
   "language": "python",
   "name": "python2"
  },
  "language_info": {
   "codemirror_mode": {
    "name": "ipython",
    "version": 2
   },
   "file_extension": ".py",
   "mimetype": "text/x-python",
   "name": "python",
   "nbconvert_exporter": "python",
   "pygments_lexer": "ipython2",
   "version": "2.7.6"
  }
 },
 "nbformat": 4,
 "nbformat_minor": 0
}
